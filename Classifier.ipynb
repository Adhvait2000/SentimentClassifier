{
  "cells": [
    {
      "cell_type": "markdown",
      "metadata": {
        "id": "2CRVonwRFUgJ"
      },
      "source": [
        "# Group Members\n",
        "\n",
        "Xuan Ming Teo\n",
        "\n",
        "Lee Yu Xuan\n",
        "\n",
        "Ananthan Srinath Adhvait\n",
        "\n",
        "# Description\n",
        "\n",
        "Write the code to implement a classifier that determines whether a given comment expresses a pro-vaccination or anti-vaccination stance. Initially, you will work with a small sample that you can use to get things set up. Eventually, you will receive the full dataset: first including the result of the first annotation, and later the result of the second round. Please note that your results may change (e.g. which model performs best) when you switch from the small sample to the full dataset."
      ]
    },
    {
      "cell_type": "code",
      "execution_count": null,
      "metadata": {
        "colab": {
          "base_uri": "https://localhost:8080/"
        },
        "id": "0-MyHsMr9aP2",
        "outputId": "d6b28d14-51e2-461d-83d3-25a8ae180b0b"
      },
      "outputs": [
        {
          "name": "stdout",
          "output_type": "stream",
          "text": [
            "--2024-02-14 21:19:31--  https://www.cse.chalmers.se/~richajo/dit866/data/a3_train_final.tsv\n",
            "Resolving www.cse.chalmers.se (www.cse.chalmers.se)... 129.16.221.33\n",
            "Connecting to www.cse.chalmers.se (www.cse.chalmers.se)|129.16.221.33|:443... connected.\n",
            "WARNING: cannot verify www.cse.chalmers.se's certificate, issued by ‘CN=GEANT OV RSA CA 4,O=GEANT Vereniging,C=NL’:\n",
            "  Unable to locally verify the issuer's authority.\n",
            "HTTP request sent, awaiting response... 200 OK\n",
            "Length: 7387583 (7.0M) [text/tab-separated-values]\n",
            "Saving to: ‘a3_train_final.tsv.1’\n",
            "\n",
            "a3_train_final.tsv. 100%[===================>]   7.04M   145KB/s    in 53s     \n",
            "\n",
            "2024-02-14 21:20:25 (136 KB/s) - ‘a3_train_final.tsv.1’ saved [7387583/7387583]\n",
            "\n"
          ]
        }
      ],
      "source": [
        "!wget --no-check-certificate https://www.cse.chalmers.se/~richajo/dit866/data/a3_train_final.tsv"
      ]
    },
    {
      "cell_type": "code",
      "execution_count": null,
      "metadata": {
        "colab": {
          "base_uri": "https://localhost:8080/"
        },
        "id": "tRO5OYeyRKgI",
        "outputId": "c8bd0838-6cf8-49df-db25-fd9646254f94"
      },
      "outputs": [
        {
          "name": "stdout",
          "output_type": "stream",
          "text": [
            "--2024-02-14 21:20:25--  https://www.cse.chalmers.se/~richajo/dit866/data/a3_test.tsv\n",
            "Resolving www.cse.chalmers.se (www.cse.chalmers.se)... 129.16.221.33\n",
            "Connecting to www.cse.chalmers.se (www.cse.chalmers.se)|129.16.221.33|:443... connected.\n",
            "WARNING: cannot verify www.cse.chalmers.se's certificate, issued by ‘CN=GEANT OV RSA CA 4,O=GEANT Vereniging,C=NL’:\n",
            "  Unable to locally verify the issuer's authority.\n",
            "HTTP request sent, awaiting response... 200 OK\n",
            "Length: 273177 (267K) [text/tab-separated-values]\n",
            "Saving to: ‘a3_test.tsv.1’\n",
            "\n",
            "a3_test.tsv.1       100%[===================>] 266.77K   308KB/s    in 0.9s    \n",
            "\n",
            "2024-02-14 21:20:26 (308 KB/s) - ‘a3_test.tsv.1’ saved [273177/273177]\n",
            "\n"
          ]
        }
      ],
      "source": [
        "!wget --no-check-certificate https://www.cse.chalmers.se/~richajo/dit866/data/a3_test.tsv"
      ]
    },
    {
      "cell_type": "code",
      "execution_count": null,
      "metadata": {
        "id": "Gb4De-gfHDFm"
      },
      "outputs": [],
      "source": [
        "# Importing Libraries\n",
        "\n",
        "import pandas as pd\n",
        "from sklearn.model_selection import train_test_split, cross_val_score\n",
        "from sklearn.feature_extraction.text import CountVectorizer\n",
        "from sklearn.feature_extraction.text import TfidfVectorizer\n",
        "from sklearn.naive_bayes import MultinomialNB\n",
        "from sklearn.linear_model import LogisticRegression, Perceptron\n",
        "from sklearn.metrics import accuracy_score, classification_report\n",
        "from sklearn.neural_network import MLPClassifier\n",
        "from sklearn.dummy import DummyClassifier"
      ]
    },
    {
      "cell_type": "code",
      "execution_count": null,
      "metadata": {
        "colab": {
          "base_uri": "https://localhost:8080/",
          "height": 423
        },
        "id": "KENhcNP8K0P-",
        "outputId": "24689f57-2386-42d9-d00f-b90d6bd7fec3"
      },
      "outputs": [
        {
          "data": {
            "application/vnd.google.colaboratory.intrinsic+json": {
              "summary": "{\n  \"name\": \"df\",\n  \"rows\": 50068,\n  \"fields\": [\n    {\n      \"column\": \"Sentiments\",\n      \"properties\": {\n        \"dtype\": \"category\",\n        \"samples\": [\n          \"1/0/1/-1\",\n          \"0/0/0/0/1\",\n          \"0/0/0/0/0/0/0/0/0/0/0/0/0/0/0/0/0/0/0/0/0/0/0\"\n        ],\n        \"num_unique_values\": 190,\n        \"semantic_type\": \"\",\n        \"description\": \"\"\n      }\n    },\n    {\n      \"column\": \"Text\",\n      \"properties\": {\n        \"dtype\": \"string\",\n        \"samples\": [\n          \"My dad just passed away this morning from covid. I hope this message is a wake up call for someone out there. Please don't put your family through this.\",\n          \"The beauty of having ample vaccines is no need to prioritize one group over another. We can vaccinate all.\",\n          \"Every Unvaccinated person has no regrets not taking the vaccine. However many Vaccinated people now have regrets taking the vaccine.\"\n        ],\n        \"num_unique_values\": 50062,\n        \"semantic_type\": \"\",\n        \"description\": \"\"\n      }\n    }\n  ]\n}",
              "type": "dataframe",
              "variable_name": "df"
            },
            "text/html": [
              "\n",
              "  <div id=\"df-eb504b25-3142-41ad-a70d-d89a35d987cd\" class=\"colab-df-container\">\n",
              "    <div>\n",
              "<style scoped>\n",
              "    .dataframe tbody tr th:only-of-type {\n",
              "        vertical-align: middle;\n",
              "    }\n",
              "\n",
              "    .dataframe tbody tr th {\n",
              "        vertical-align: top;\n",
              "    }\n",
              "\n",
              "    .dataframe thead th {\n",
              "        text-align: right;\n",
              "    }\n",
              "</style>\n",
              "<table border=\"1\" class=\"dataframe\">\n",
              "  <thead>\n",
              "    <tr style=\"text-align: right;\">\n",
              "      <th></th>\n",
              "      <th>Sentiments</th>\n",
              "      <th>Text</th>\n",
              "    </tr>\n",
              "  </thead>\n",
              "  <tbody>\n",
              "    <tr>\n",
              "      <th>0</th>\n",
              "      <td>1/1</td>\n",
              "      <td>I'll only consume if I know what's inside it....</td>\n",
              "    </tr>\n",
              "    <tr>\n",
              "      <th>1</th>\n",
              "      <td>0/-1</td>\n",
              "      <td>It is easier to fool a million people than it...</td>\n",
              "    </tr>\n",
              "    <tr>\n",
              "      <th>2</th>\n",
              "      <td>0/0</td>\n",
              "      <td>NATURAL IMMUNITY  protected us since evolutio...</td>\n",
              "    </tr>\n",
              "    <tr>\n",
              "      <th>3</th>\n",
              "      <td>0/-1</td>\n",
              "      <td>NATURAL IMMUNITY  protected us since evolutio...</td>\n",
              "    </tr>\n",
              "    <tr>\n",
              "      <th>4</th>\n",
              "      <td>0/0</td>\n",
              "      <td>Proud to have resisted. Proud of my husband, ...</td>\n",
              "    </tr>\n",
              "    <tr>\n",
              "      <th>...</th>\n",
              "      <td>...</td>\n",
              "      <td>...</td>\n",
              "    </tr>\n",
              "    <tr>\n",
              "      <th>50063</th>\n",
              "      <td>0/0</td>\n",
              "      <td>🤣 keep your 💩 I already know 3 people who have...</td>\n",
              "    </tr>\n",
              "    <tr>\n",
              "      <th>50064</th>\n",
              "      <td>0/0</td>\n",
              "      <td>🤣🤣🤣 \"JUST BECAUSE IT'S SAFE, DOESN'T MEAN IT D...</td>\n",
              "    </tr>\n",
              "    <tr>\n",
              "      <th>50065</th>\n",
              "      <td>0/0</td>\n",
              "      <td>🤣🤣🤣 I took the Vaccine because of work. If I d...</td>\n",
              "    </tr>\n",
              "    <tr>\n",
              "      <th>50066</th>\n",
              "      <td>0/0</td>\n",
              "      <td>🤨there's people already having severe side eff...</td>\n",
              "    </tr>\n",
              "    <tr>\n",
              "      <th>50067</th>\n",
              "      <td>1/1</td>\n",
              "      <td>🥦I ❤my covid vaccines and I'm so excited for m...</td>\n",
              "    </tr>\n",
              "  </tbody>\n",
              "</table>\n",
              "<p>50068 rows × 2 columns</p>\n",
              "</div>\n",
              "    <div class=\"colab-df-buttons\">\n",
              "\n",
              "  <div class=\"colab-df-container\">\n",
              "    <button class=\"colab-df-convert\" onclick=\"convertToInteractive('df-eb504b25-3142-41ad-a70d-d89a35d987cd')\"\n",
              "            title=\"Convert this dataframe to an interactive table.\"\n",
              "            style=\"display:none;\">\n",
              "\n",
              "  <svg xmlns=\"http://www.w3.org/2000/svg\" height=\"24px\" viewBox=\"0 -960 960 960\">\n",
              "    <path d=\"M120-120v-720h720v720H120Zm60-500h600v-160H180v160Zm220 220h160v-160H400v160Zm0 220h160v-160H400v160ZM180-400h160v-160H180v160Zm440 0h160v-160H620v160ZM180-180h160v-160H180v160Zm440 0h160v-160H620v160Z\"/>\n",
              "  </svg>\n",
              "    </button>\n",
              "\n",
              "  <style>\n",
              "    .colab-df-container {\n",
              "      display:flex;\n",
              "      gap: 12px;\n",
              "    }\n",
              "\n",
              "    .colab-df-convert {\n",
              "      background-color: #E8F0FE;\n",
              "      border: none;\n",
              "      border-radius: 50%;\n",
              "      cursor: pointer;\n",
              "      display: none;\n",
              "      fill: #1967D2;\n",
              "      height: 32px;\n",
              "      padding: 0 0 0 0;\n",
              "      width: 32px;\n",
              "    }\n",
              "\n",
              "    .colab-df-convert:hover {\n",
              "      background-color: #E2EBFA;\n",
              "      box-shadow: 0px 1px 2px rgba(60, 64, 67, 0.3), 0px 1px 3px 1px rgba(60, 64, 67, 0.15);\n",
              "      fill: #174EA6;\n",
              "    }\n",
              "\n",
              "    .colab-df-buttons div {\n",
              "      margin-bottom: 4px;\n",
              "    }\n",
              "\n",
              "    [theme=dark] .colab-df-convert {\n",
              "      background-color: #3B4455;\n",
              "      fill: #D2E3FC;\n",
              "    }\n",
              "\n",
              "    [theme=dark] .colab-df-convert:hover {\n",
              "      background-color: #434B5C;\n",
              "      box-shadow: 0px 1px 3px 1px rgba(0, 0, 0, 0.15);\n",
              "      filter: drop-shadow(0px 1px 2px rgba(0, 0, 0, 0.3));\n",
              "      fill: #FFFFFF;\n",
              "    }\n",
              "  </style>\n",
              "\n",
              "    <script>\n",
              "      const buttonEl =\n",
              "        document.querySelector('#df-eb504b25-3142-41ad-a70d-d89a35d987cd button.colab-df-convert');\n",
              "      buttonEl.style.display =\n",
              "        google.colab.kernel.accessAllowed ? 'block' : 'none';\n",
              "\n",
              "      async function convertToInteractive(key) {\n",
              "        const element = document.querySelector('#df-eb504b25-3142-41ad-a70d-d89a35d987cd');\n",
              "        const dataTable =\n",
              "          await google.colab.kernel.invokeFunction('convertToInteractive',\n",
              "                                                    [key], {});\n",
              "        if (!dataTable) return;\n",
              "\n",
              "        const docLinkHtml = 'Like what you see? Visit the ' +\n",
              "          '<a target=\"_blank\" href=https://colab.research.google.com/notebooks/data_table.ipynb>data table notebook</a>'\n",
              "          + ' to learn more about interactive tables.';\n",
              "        element.innerHTML = '';\n",
              "        dataTable['output_type'] = 'display_data';\n",
              "        await google.colab.output.renderOutput(dataTable, element);\n",
              "        const docLink = document.createElement('div');\n",
              "        docLink.innerHTML = docLinkHtml;\n",
              "        element.appendChild(docLink);\n",
              "      }\n",
              "    </script>\n",
              "  </div>\n",
              "\n",
              "\n",
              "<div id=\"df-f7fc2db5-8f6f-4869-b7b8-e7748f8bd3f7\">\n",
              "  <button class=\"colab-df-quickchart\" onclick=\"quickchart('df-f7fc2db5-8f6f-4869-b7b8-e7748f8bd3f7')\"\n",
              "            title=\"Suggest charts\"\n",
              "            style=\"display:none;\">\n",
              "\n",
              "<svg xmlns=\"http://www.w3.org/2000/svg\" height=\"24px\"viewBox=\"0 0 24 24\"\n",
              "     width=\"24px\">\n",
              "    <g>\n",
              "        <path d=\"M19 3H5c-1.1 0-2 .9-2 2v14c0 1.1.9 2 2 2h14c1.1 0 2-.9 2-2V5c0-1.1-.9-2-2-2zM9 17H7v-7h2v7zm4 0h-2V7h2v10zm4 0h-2v-4h2v4z\"/>\n",
              "    </g>\n",
              "</svg>\n",
              "  </button>\n",
              "\n",
              "<style>\n",
              "  .colab-df-quickchart {\n",
              "      --bg-color: #E8F0FE;\n",
              "      --fill-color: #1967D2;\n",
              "      --hover-bg-color: #E2EBFA;\n",
              "      --hover-fill-color: #174EA6;\n",
              "      --disabled-fill-color: #AAA;\n",
              "      --disabled-bg-color: #DDD;\n",
              "  }\n",
              "\n",
              "  [theme=dark] .colab-df-quickchart {\n",
              "      --bg-color: #3B4455;\n",
              "      --fill-color: #D2E3FC;\n",
              "      --hover-bg-color: #434B5C;\n",
              "      --hover-fill-color: #FFFFFF;\n",
              "      --disabled-bg-color: #3B4455;\n",
              "      --disabled-fill-color: #666;\n",
              "  }\n",
              "\n",
              "  .colab-df-quickchart {\n",
              "    background-color: var(--bg-color);\n",
              "    border: none;\n",
              "    border-radius: 50%;\n",
              "    cursor: pointer;\n",
              "    display: none;\n",
              "    fill: var(--fill-color);\n",
              "    height: 32px;\n",
              "    padding: 0;\n",
              "    width: 32px;\n",
              "  }\n",
              "\n",
              "  .colab-df-quickchart:hover {\n",
              "    background-color: var(--hover-bg-color);\n",
              "    box-shadow: 0 1px 2px rgba(60, 64, 67, 0.3), 0 1px 3px 1px rgba(60, 64, 67, 0.15);\n",
              "    fill: var(--button-hover-fill-color);\n",
              "  }\n",
              "\n",
              "  .colab-df-quickchart-complete:disabled,\n",
              "  .colab-df-quickchart-complete:disabled:hover {\n",
              "    background-color: var(--disabled-bg-color);\n",
              "    fill: var(--disabled-fill-color);\n",
              "    box-shadow: none;\n",
              "  }\n",
              "\n",
              "  .colab-df-spinner {\n",
              "    border: 2px solid var(--fill-color);\n",
              "    border-color: transparent;\n",
              "    border-bottom-color: var(--fill-color);\n",
              "    animation:\n",
              "      spin 1s steps(1) infinite;\n",
              "  }\n",
              "\n",
              "  @keyframes spin {\n",
              "    0% {\n",
              "      border-color: transparent;\n",
              "      border-bottom-color: var(--fill-color);\n",
              "      border-left-color: var(--fill-color);\n",
              "    }\n",
              "    20% {\n",
              "      border-color: transparent;\n",
              "      border-left-color: var(--fill-color);\n",
              "      border-top-color: var(--fill-color);\n",
              "    }\n",
              "    30% {\n",
              "      border-color: transparent;\n",
              "      border-left-color: var(--fill-color);\n",
              "      border-top-color: var(--fill-color);\n",
              "      border-right-color: var(--fill-color);\n",
              "    }\n",
              "    40% {\n",
              "      border-color: transparent;\n",
              "      border-right-color: var(--fill-color);\n",
              "      border-top-color: var(--fill-color);\n",
              "    }\n",
              "    60% {\n",
              "      border-color: transparent;\n",
              "      border-right-color: var(--fill-color);\n",
              "    }\n",
              "    80% {\n",
              "      border-color: transparent;\n",
              "      border-right-color: var(--fill-color);\n",
              "      border-bottom-color: var(--fill-color);\n",
              "    }\n",
              "    90% {\n",
              "      border-color: transparent;\n",
              "      border-bottom-color: var(--fill-color);\n",
              "    }\n",
              "  }\n",
              "</style>\n",
              "\n",
              "  <script>\n",
              "    async function quickchart(key) {\n",
              "      const quickchartButtonEl =\n",
              "        document.querySelector('#' + key + ' button');\n",
              "      quickchartButtonEl.disabled = true;  // To prevent multiple clicks.\n",
              "      quickchartButtonEl.classList.add('colab-df-spinner');\n",
              "      try {\n",
              "        const charts = await google.colab.kernel.invokeFunction(\n",
              "            'suggestCharts', [key], {});\n",
              "      } catch (error) {\n",
              "        console.error('Error during call to suggestCharts:', error);\n",
              "      }\n",
              "      quickchartButtonEl.classList.remove('colab-df-spinner');\n",
              "      quickchartButtonEl.classList.add('colab-df-quickchart-complete');\n",
              "    }\n",
              "    (() => {\n",
              "      let quickchartButtonEl =\n",
              "        document.querySelector('#df-f7fc2db5-8f6f-4869-b7b8-e7748f8bd3f7 button');\n",
              "      quickchartButtonEl.style.display =\n",
              "        google.colab.kernel.accessAllowed ? 'block' : 'none';\n",
              "    })();\n",
              "  </script>\n",
              "</div>\n",
              "    </div>\n",
              "  </div>\n"
            ],
            "text/plain": [
              "      Sentiments                                               Text\n",
              "0            1/1   I'll only consume if I know what's inside it....\n",
              "1           0/-1   It is easier to fool a million people than it...\n",
              "2            0/0   NATURAL IMMUNITY  protected us since evolutio...\n",
              "3           0/-1   NATURAL IMMUNITY  protected us since evolutio...\n",
              "4            0/0   Proud to have resisted. Proud of my husband, ...\n",
              "...          ...                                                ...\n",
              "50063        0/0  🤣 keep your 💩 I already know 3 people who have...\n",
              "50064        0/0  🤣🤣🤣 \"JUST BECAUSE IT'S SAFE, DOESN'T MEAN IT D...\n",
              "50065        0/0  🤣🤣🤣 I took the Vaccine because of work. If I d...\n",
              "50066        0/0  🤨there's people already having severe side eff...\n",
              "50067        1/1  🥦I ❤my covid vaccines and I'm so excited for m...\n",
              "\n",
              "[50068 rows x 2 columns]"
            ]
          },
          "execution_count": 6,
          "metadata": {},
          "output_type": "execute_result"
        }
      ],
      "source": [
        "# Loading in the dataset\n",
        "\n",
        "df = pd.read_csv(\"a3_train_final.tsv\", sep='\\t', header=None)\n",
        "df.columns = ['Sentiments', 'Text']\n",
        "df"
      ]
    },
    {
      "cell_type": "code",
      "execution_count": null,
      "metadata": {
        "colab": {
          "base_uri": "https://localhost:8080/"
        },
        "id": "Hg1GQLRAQ0aU",
        "outputId": "3ec8ac98-5fa9-4988-c2bc-b11543a54c08"
      },
      "outputs": [
        {
          "data": {
            "text/plain": [
              "0         1/1\n",
              "1        0/-1\n",
              "2         0/0\n",
              "3        0/-1\n",
              "4         0/0\n",
              "         ... \n",
              "50063     0/0\n",
              "50064     0/0\n",
              "50065     0/0\n",
              "50066     0/0\n",
              "50067     1/1\n",
              "Name: Sentiments, Length: 50068, dtype: object"
            ]
          },
          "execution_count": 7,
          "metadata": {},
          "output_type": "execute_result"
        }
      ],
      "source": [
        "sentiments = df['Sentiments']\n",
        "sentiments"
      ]
    },
    {
      "cell_type": "code",
      "execution_count": null,
      "metadata": {
        "colab": {
          "base_uri": "https://localhost:8080/"
        },
        "id": "xZwyYd_9RHaq",
        "outputId": "94e043fe-8c05-40cc-a986-177b74b69aa0"
      },
      "outputs": [
        {
          "data": {
            "text/plain": [
              "5434"
            ]
          },
          "execution_count": 8,
          "metadata": {},
          "output_type": "execute_result"
        }
      ],
      "source": [
        "# We aim to remove data that do not align with the following sentiment annotations : sentiment_1/sentiment_2\n",
        "\n",
        "uneven_data = []\n",
        "\n",
        "for i in range(len(sentiments)):\n",
        "  slash_count = sentiments[i].count('/')\n",
        "  if slash_count != 1:\n",
        "    uneven_data.append(i)\n",
        "\n",
        "len(uneven_data)"
      ]
    },
    {
      "cell_type": "code",
      "execution_count": null,
      "metadata": {
        "colab": {
          "base_uri": "https://localhost:8080/"
        },
        "id": "wIl8pCqC9qMC",
        "outputId": "aac1ba99-4724-41af-b1a9-ea3aa5b17c29"
      },
      "outputs": [
        {
          "data": {
            "text/plain": [
              "(44634, 3)"
            ]
          },
          "execution_count": 9,
          "metadata": {},
          "output_type": "execute_result"
        }
      ],
      "source": [
        "updated_df = df.drop(uneven_data)\n",
        "updated_df = updated_df.reset_index()\n",
        "updated_df.shape"
      ]
    },
    {
      "cell_type": "code",
      "execution_count": null,
      "metadata": {
        "colab": {
          "base_uri": "https://localhost:8080/"
        },
        "id": "dH9nDLWs9rYe",
        "outputId": "07598221-17ba-4cdb-dc64-b5184eedc2d4"
      },
      "outputs": [
        {
          "name": "stderr",
          "output_type": "stream",
          "text": [
            "<ipython-input-10-be21e432f607>:18: SettingWithCopyWarning: \n",
            "A value is trying to be set on a copy of a slice from a DataFrame\n",
            "\n",
            "See the caveats in the documentation: https://pandas.pydata.org/pandas-docs/stable/user_guide/indexing.html#returning-a-view-versus-a-copy\n",
            "  sentiments[i] = int(split_sentiments[0])\n",
            "<ipython-input-10-be21e432f607>:14: SettingWithCopyWarning: \n",
            "A value is trying to be set on a copy of a slice from a DataFrame\n",
            "\n",
            "See the caveats in the documentation: https://pandas.pydata.org/pandas-docs/stable/user_guide/indexing.html#returning-a-view-versus-a-copy\n",
            "  sentiments[i] = -1\n",
            "<ipython-input-10-be21e432f607>:16: SettingWithCopyWarning: \n",
            "A value is trying to be set on a copy of a slice from a DataFrame\n",
            "\n",
            "See the caveats in the documentation: https://pandas.pydata.org/pandas-docs/stable/user_guide/indexing.html#returning-a-view-versus-a-copy\n",
            "  sentiments[i] = -1\n"
          ]
        }
      ],
      "source": [
        "# Here we are attempting to convert the annotations into a single integer representation where\n",
        "# 1 - Positive\n",
        "# 0 - Negative\n",
        "# -1 - Unclear\n",
        "# If either of the annotations contains a '-1' or both annotations are not the same,\n",
        "# we will classify the sentiments as '-1' as there is no clear indication whether the annotation is positive is negative\n",
        "# If both sentiments are the same, we will label the sentiments as accordingly\n",
        "\n",
        "sentiments = updated_df['Sentiments']\n",
        "for i in range(len(sentiments)):\n",
        "  # Split the sentiment string by '/'\n",
        "  split_sentiments = sentiments[i].split('/')\n",
        "  if split_sentiments[0] == '-1' or split_sentiments[1] == '-1':\n",
        "    sentiments[i] = -1\n",
        "  elif split_sentiments[0] != split_sentiments[1]:\n",
        "    sentiments[i] = -1\n",
        "  elif split_sentiments[0] == split_sentiments[1]:\n",
        "    sentiments[i] = int(split_sentiments[0])"
      ]
    },
    {
      "cell_type": "code",
      "execution_count": null,
      "metadata": {
        "colab": {
          "base_uri": "https://localhost:8080/"
        },
        "id": "aoGCZkfk9wn8",
        "outputId": "8ce1840b-efc6-43ee-ece9-34a6e2d37ace"
      },
      "outputs": [
        {
          "data": {
            "text/plain": [
              "0         1\n",
              "1        -1\n",
              "2         0\n",
              "3        -1\n",
              "4         0\n",
              "         ..\n",
              "44629     0\n",
              "44630     0\n",
              "44631     0\n",
              "44632     0\n",
              "44633     1\n",
              "Name: Sentiments, Length: 44634, dtype: object"
            ]
          },
          "execution_count": 11,
          "metadata": {},
          "output_type": "execute_result"
        }
      ],
      "source": [
        "sentiments"
      ]
    },
    {
      "cell_type": "code",
      "execution_count": null,
      "metadata": {
        "colab": {
          "base_uri": "https://localhost:8080/"
        },
        "id": "1JhRxk8k_I0W",
        "outputId": "2b19048f-2fa2-4476-8784-b9f07343af8f"
      },
      "outputs": [
        {
          "data": {
            "text/plain": [
              " 1    19248\n",
              " 0    18221\n",
              "-1     7165\n",
              "Name: Sentiments, dtype: int64"
            ]
          },
          "execution_count": 12,
          "metadata": {},
          "output_type": "execute_result"
        }
      ],
      "source": [
        "sentiments.value_counts()"
      ]
    },
    {
      "cell_type": "code",
      "execution_count": null,
      "metadata": {
        "id": "3Dh4kfV1C8Io"
      },
      "outputs": [],
      "source": [
        "updated_df['Sentiments'] = updated_df['Sentiments'].replace(1,'Positive')\n",
        "updated_df['Sentiments'] = updated_df['Sentiments'].replace(0,'Negative')\n",
        "updated_df['Sentiments'] = updated_df['Sentiments'].replace(-1,'Unclear')"
      ]
    },
    {
      "cell_type": "code",
      "execution_count": null,
      "metadata": {
        "colab": {
          "base_uri": "https://localhost:8080/",
          "height": 441
        },
        "id": "Loi2lBUhEeVZ",
        "outputId": "baab2256-de8b-47b1-ae91-b45edcd7097d"
      },
      "outputs": [
        {
          "data": {
            "application/vnd.google.colaboratory.intrinsic+json": {
              "summary": "{\n  \"name\": \"updated_df\",\n  \"rows\": 44634,\n  \"fields\": [\n    {\n      \"column\": \"index\",\n      \"properties\": {\n        \"dtype\": \"number\",\n        \"std\": 14504,\n        \"min\": 0,\n        \"max\": 50067,\n        \"samples\": [\n          44753,\n          34124,\n          35430\n        ],\n        \"num_unique_values\": 44634,\n        \"semantic_type\": \"\",\n        \"description\": \"\"\n      }\n    },\n    {\n      \"column\": \"Sentiments\",\n      \"properties\": {\n        \"dtype\": \"category\",\n        \"samples\": [\n          \"Positive\",\n          \"Unclear\",\n          \"Negative\"\n        ],\n        \"num_unique_values\": 3,\n        \"semantic_type\": \"\",\n        \"description\": \"\"\n      }\n    },\n    {\n      \"column\": \"Text\",\n      \"properties\": {\n        \"dtype\": \"string\",\n        \"samples\": [\n          \"Wish I could take the vaccine\",\n          \"Thank god im getting vaccinated.\",\n          \"The biggest fearmongering political scam in US history\"\n        ],\n        \"num_unique_values\": 44634,\n        \"semantic_type\": \"\",\n        \"description\": \"\"\n      }\n    }\n  ]\n}",
              "type": "dataframe",
              "variable_name": "updated_df"
            },
            "text/html": [
              "\n",
              "  <div id=\"df-109b0c26-cdba-4678-afdf-9b8a2dfde963\" class=\"colab-df-container\">\n",
              "    <div>\n",
              "<style scoped>\n",
              "    .dataframe tbody tr th:only-of-type {\n",
              "        vertical-align: middle;\n",
              "    }\n",
              "\n",
              "    .dataframe tbody tr th {\n",
              "        vertical-align: top;\n",
              "    }\n",
              "\n",
              "    .dataframe thead th {\n",
              "        text-align: right;\n",
              "    }\n",
              "</style>\n",
              "<table border=\"1\" class=\"dataframe\">\n",
              "  <thead>\n",
              "    <tr style=\"text-align: right;\">\n",
              "      <th></th>\n",
              "      <th>index</th>\n",
              "      <th>Sentiments</th>\n",
              "      <th>Text</th>\n",
              "    </tr>\n",
              "  </thead>\n",
              "  <tbody>\n",
              "    <tr>\n",
              "      <th>0</th>\n",
              "      <td>0</td>\n",
              "      <td>Positive</td>\n",
              "      <td>I'll only consume if I know what's inside it....</td>\n",
              "    </tr>\n",
              "    <tr>\n",
              "      <th>1</th>\n",
              "      <td>1</td>\n",
              "      <td>Unclear</td>\n",
              "      <td>It is easier to fool a million people than it...</td>\n",
              "    </tr>\n",
              "    <tr>\n",
              "      <th>2</th>\n",
              "      <td>2</td>\n",
              "      <td>Negative</td>\n",
              "      <td>NATURAL IMMUNITY  protected us since evolutio...</td>\n",
              "    </tr>\n",
              "    <tr>\n",
              "      <th>3</th>\n",
              "      <td>3</td>\n",
              "      <td>Unclear</td>\n",
              "      <td>NATURAL IMMUNITY  protected us since evolutio...</td>\n",
              "    </tr>\n",
              "    <tr>\n",
              "      <th>4</th>\n",
              "      <td>4</td>\n",
              "      <td>Negative</td>\n",
              "      <td>Proud to have resisted. Proud of my husband, ...</td>\n",
              "    </tr>\n",
              "    <tr>\n",
              "      <th>...</th>\n",
              "      <td>...</td>\n",
              "      <td>...</td>\n",
              "      <td>...</td>\n",
              "    </tr>\n",
              "    <tr>\n",
              "      <th>44629</th>\n",
              "      <td>50063</td>\n",
              "      <td>Negative</td>\n",
              "      <td>🤣 keep your 💩 I already know 3 people who have...</td>\n",
              "    </tr>\n",
              "    <tr>\n",
              "      <th>44630</th>\n",
              "      <td>50064</td>\n",
              "      <td>Negative</td>\n",
              "      <td>🤣🤣🤣 \"JUST BECAUSE IT'S SAFE, DOESN'T MEAN IT D...</td>\n",
              "    </tr>\n",
              "    <tr>\n",
              "      <th>44631</th>\n",
              "      <td>50065</td>\n",
              "      <td>Negative</td>\n",
              "      <td>🤣🤣🤣 I took the Vaccine because of work. If I d...</td>\n",
              "    </tr>\n",
              "    <tr>\n",
              "      <th>44632</th>\n",
              "      <td>50066</td>\n",
              "      <td>Negative</td>\n",
              "      <td>🤨there's people already having severe side eff...</td>\n",
              "    </tr>\n",
              "    <tr>\n",
              "      <th>44633</th>\n",
              "      <td>50067</td>\n",
              "      <td>Positive</td>\n",
              "      <td>🥦I ❤my covid vaccines and I'm so excited for m...</td>\n",
              "    </tr>\n",
              "  </tbody>\n",
              "</table>\n",
              "<p>44634 rows × 3 columns</p>\n",
              "</div>\n",
              "    <div class=\"colab-df-buttons\">\n",
              "\n",
              "  <div class=\"colab-df-container\">\n",
              "    <button class=\"colab-df-convert\" onclick=\"convertToInteractive('df-109b0c26-cdba-4678-afdf-9b8a2dfde963')\"\n",
              "            title=\"Convert this dataframe to an interactive table.\"\n",
              "            style=\"display:none;\">\n",
              "\n",
              "  <svg xmlns=\"http://www.w3.org/2000/svg\" height=\"24px\" viewBox=\"0 -960 960 960\">\n",
              "    <path d=\"M120-120v-720h720v720H120Zm60-500h600v-160H180v160Zm220 220h160v-160H400v160Zm0 220h160v-160H400v160ZM180-400h160v-160H180v160Zm440 0h160v-160H620v160ZM180-180h160v-160H180v160Zm440 0h160v-160H620v160Z\"/>\n",
              "  </svg>\n",
              "    </button>\n",
              "\n",
              "  <style>\n",
              "    .colab-df-container {\n",
              "      display:flex;\n",
              "      gap: 12px;\n",
              "    }\n",
              "\n",
              "    .colab-df-convert {\n",
              "      background-color: #E8F0FE;\n",
              "      border: none;\n",
              "      border-radius: 50%;\n",
              "      cursor: pointer;\n",
              "      display: none;\n",
              "      fill: #1967D2;\n",
              "      height: 32px;\n",
              "      padding: 0 0 0 0;\n",
              "      width: 32px;\n",
              "    }\n",
              "\n",
              "    .colab-df-convert:hover {\n",
              "      background-color: #E2EBFA;\n",
              "      box-shadow: 0px 1px 2px rgba(60, 64, 67, 0.3), 0px 1px 3px 1px rgba(60, 64, 67, 0.15);\n",
              "      fill: #174EA6;\n",
              "    }\n",
              "\n",
              "    .colab-df-buttons div {\n",
              "      margin-bottom: 4px;\n",
              "    }\n",
              "\n",
              "    [theme=dark] .colab-df-convert {\n",
              "      background-color: #3B4455;\n",
              "      fill: #D2E3FC;\n",
              "    }\n",
              "\n",
              "    [theme=dark] .colab-df-convert:hover {\n",
              "      background-color: #434B5C;\n",
              "      box-shadow: 0px 1px 3px 1px rgba(0, 0, 0, 0.15);\n",
              "      filter: drop-shadow(0px 1px 2px rgba(0, 0, 0, 0.3));\n",
              "      fill: #FFFFFF;\n",
              "    }\n",
              "  </style>\n",
              "\n",
              "    <script>\n",
              "      const buttonEl =\n",
              "        document.querySelector('#df-109b0c26-cdba-4678-afdf-9b8a2dfde963 button.colab-df-convert');\n",
              "      buttonEl.style.display =\n",
              "        google.colab.kernel.accessAllowed ? 'block' : 'none';\n",
              "\n",
              "      async function convertToInteractive(key) {\n",
              "        const element = document.querySelector('#df-109b0c26-cdba-4678-afdf-9b8a2dfde963');\n",
              "        const dataTable =\n",
              "          await google.colab.kernel.invokeFunction('convertToInteractive',\n",
              "                                                    [key], {});\n",
              "        if (!dataTable) return;\n",
              "\n",
              "        const docLinkHtml = 'Like what you see? Visit the ' +\n",
              "          '<a target=\"_blank\" href=https://colab.research.google.com/notebooks/data_table.ipynb>data table notebook</a>'\n",
              "          + ' to learn more about interactive tables.';\n",
              "        element.innerHTML = '';\n",
              "        dataTable['output_type'] = 'display_data';\n",
              "        await google.colab.output.renderOutput(dataTable, element);\n",
              "        const docLink = document.createElement('div');\n",
              "        docLink.innerHTML = docLinkHtml;\n",
              "        element.appendChild(docLink);\n",
              "      }\n",
              "    </script>\n",
              "  </div>\n",
              "\n",
              "\n",
              "<div id=\"df-ab524521-073f-4a2a-b8d9-fc8c62151bab\">\n",
              "  <button class=\"colab-df-quickchart\" onclick=\"quickchart('df-ab524521-073f-4a2a-b8d9-fc8c62151bab')\"\n",
              "            title=\"Suggest charts\"\n",
              "            style=\"display:none;\">\n",
              "\n",
              "<svg xmlns=\"http://www.w3.org/2000/svg\" height=\"24px\"viewBox=\"0 0 24 24\"\n",
              "     width=\"24px\">\n",
              "    <g>\n",
              "        <path d=\"M19 3H5c-1.1 0-2 .9-2 2v14c0 1.1.9 2 2 2h14c1.1 0 2-.9 2-2V5c0-1.1-.9-2-2-2zM9 17H7v-7h2v7zm4 0h-2V7h2v10zm4 0h-2v-4h2v4z\"/>\n",
              "    </g>\n",
              "</svg>\n",
              "  </button>\n",
              "\n",
              "<style>\n",
              "  .colab-df-quickchart {\n",
              "      --bg-color: #E8F0FE;\n",
              "      --fill-color: #1967D2;\n",
              "      --hover-bg-color: #E2EBFA;\n",
              "      --hover-fill-color: #174EA6;\n",
              "      --disabled-fill-color: #AAA;\n",
              "      --disabled-bg-color: #DDD;\n",
              "  }\n",
              "\n",
              "  [theme=dark] .colab-df-quickchart {\n",
              "      --bg-color: #3B4455;\n",
              "      --fill-color: #D2E3FC;\n",
              "      --hover-bg-color: #434B5C;\n",
              "      --hover-fill-color: #FFFFFF;\n",
              "      --disabled-bg-color: #3B4455;\n",
              "      --disabled-fill-color: #666;\n",
              "  }\n",
              "\n",
              "  .colab-df-quickchart {\n",
              "    background-color: var(--bg-color);\n",
              "    border: none;\n",
              "    border-radius: 50%;\n",
              "    cursor: pointer;\n",
              "    display: none;\n",
              "    fill: var(--fill-color);\n",
              "    height: 32px;\n",
              "    padding: 0;\n",
              "    width: 32px;\n",
              "  }\n",
              "\n",
              "  .colab-df-quickchart:hover {\n",
              "    background-color: var(--hover-bg-color);\n",
              "    box-shadow: 0 1px 2px rgba(60, 64, 67, 0.3), 0 1px 3px 1px rgba(60, 64, 67, 0.15);\n",
              "    fill: var(--button-hover-fill-color);\n",
              "  }\n",
              "\n",
              "  .colab-df-quickchart-complete:disabled,\n",
              "  .colab-df-quickchart-complete:disabled:hover {\n",
              "    background-color: var(--disabled-bg-color);\n",
              "    fill: var(--disabled-fill-color);\n",
              "    box-shadow: none;\n",
              "  }\n",
              "\n",
              "  .colab-df-spinner {\n",
              "    border: 2px solid var(--fill-color);\n",
              "    border-color: transparent;\n",
              "    border-bottom-color: var(--fill-color);\n",
              "    animation:\n",
              "      spin 1s steps(1) infinite;\n",
              "  }\n",
              "\n",
              "  @keyframes spin {\n",
              "    0% {\n",
              "      border-color: transparent;\n",
              "      border-bottom-color: var(--fill-color);\n",
              "      border-left-color: var(--fill-color);\n",
              "    }\n",
              "    20% {\n",
              "      border-color: transparent;\n",
              "      border-left-color: var(--fill-color);\n",
              "      border-top-color: var(--fill-color);\n",
              "    }\n",
              "    30% {\n",
              "      border-color: transparent;\n",
              "      border-left-color: var(--fill-color);\n",
              "      border-top-color: var(--fill-color);\n",
              "      border-right-color: var(--fill-color);\n",
              "    }\n",
              "    40% {\n",
              "      border-color: transparent;\n",
              "      border-right-color: var(--fill-color);\n",
              "      border-top-color: var(--fill-color);\n",
              "    }\n",
              "    60% {\n",
              "      border-color: transparent;\n",
              "      border-right-color: var(--fill-color);\n",
              "    }\n",
              "    80% {\n",
              "      border-color: transparent;\n",
              "      border-right-color: var(--fill-color);\n",
              "      border-bottom-color: var(--fill-color);\n",
              "    }\n",
              "    90% {\n",
              "      border-color: transparent;\n",
              "      border-bottom-color: var(--fill-color);\n",
              "    }\n",
              "  }\n",
              "</style>\n",
              "\n",
              "  <script>\n",
              "    async function quickchart(key) {\n",
              "      const quickchartButtonEl =\n",
              "        document.querySelector('#' + key + ' button');\n",
              "      quickchartButtonEl.disabled = true;  // To prevent multiple clicks.\n",
              "      quickchartButtonEl.classList.add('colab-df-spinner');\n",
              "      try {\n",
              "        const charts = await google.colab.kernel.invokeFunction(\n",
              "            'suggestCharts', [key], {});\n",
              "      } catch (error) {\n",
              "        console.error('Error during call to suggestCharts:', error);\n",
              "      }\n",
              "      quickchartButtonEl.classList.remove('colab-df-spinner');\n",
              "      quickchartButtonEl.classList.add('colab-df-quickchart-complete');\n",
              "    }\n",
              "    (() => {\n",
              "      let quickchartButtonEl =\n",
              "        document.querySelector('#df-ab524521-073f-4a2a-b8d9-fc8c62151bab button');\n",
              "      quickchartButtonEl.style.display =\n",
              "        google.colab.kernel.accessAllowed ? 'block' : 'none';\n",
              "    })();\n",
              "  </script>\n",
              "</div>\n",
              "    </div>\n",
              "  </div>\n"
            ],
            "text/plain": [
              "       index Sentiments                                               Text\n",
              "0          0   Positive   I'll only consume if I know what's inside it....\n",
              "1          1    Unclear   It is easier to fool a million people than it...\n",
              "2          2   Negative   NATURAL IMMUNITY  protected us since evolutio...\n",
              "3          3    Unclear   NATURAL IMMUNITY  protected us since evolutio...\n",
              "4          4   Negative   Proud to have resisted. Proud of my husband, ...\n",
              "...      ...        ...                                                ...\n",
              "44629  50063   Negative  🤣 keep your 💩 I already know 3 people who have...\n",
              "44630  50064   Negative  🤣🤣🤣 \"JUST BECAUSE IT'S SAFE, DOESN'T MEAN IT D...\n",
              "44631  50065   Negative  🤣🤣🤣 I took the Vaccine because of work. If I d...\n",
              "44632  50066   Negative  🤨there's people already having severe side eff...\n",
              "44633  50067   Positive  🥦I ❤my covid vaccines and I'm so excited for m...\n",
              "\n",
              "[44634 rows x 3 columns]"
            ]
          },
          "execution_count": 14,
          "metadata": {},
          "output_type": "execute_result"
        }
      ],
      "source": [
        "updated_df"
      ]
    },
    {
      "cell_type": "code",
      "execution_count": null,
      "metadata": {
        "id": "BAl7HNIvEfWU"
      },
      "outputs": [],
      "source": [
        "positive_sentiments = updated_df[updated_df['Sentiments'] == 'Positive']\n",
        "negative_sentiments = updated_df[updated_df['Sentiments'] == 'Negative']\n",
        "unclear_sentiments = updated_df[updated_df['Sentiments'] == 'Unclear']"
      ]
    },
    {
      "cell_type": "code",
      "execution_count": null,
      "metadata": {
        "colab": {
          "base_uri": "https://localhost:8080/"
        },
        "id": "cWcDyWBBEjKC",
        "outputId": "16ff148a-06a8-40bc-e74d-c8698c094034"
      },
      "outputs": [
        {
          "data": {
            "text/plain": [
              "(19248, 3)"
            ]
          },
          "execution_count": 16,
          "metadata": {},
          "output_type": "execute_result"
        }
      ],
      "source": [
        "positive_sentiments.shape"
      ]
    },
    {
      "cell_type": "code",
      "execution_count": null,
      "metadata": {
        "colab": {
          "base_uri": "https://localhost:8080/"
        },
        "id": "WS21-BvwEmy0",
        "outputId": "e6ad0e71-55f6-4fd9-c874-2416654bce67"
      },
      "outputs": [
        {
          "data": {
            "text/plain": [
              "(18221, 3)"
            ]
          },
          "execution_count": 17,
          "metadata": {},
          "output_type": "execute_result"
        }
      ],
      "source": [
        "negative_sentiments.shape"
      ]
    },
    {
      "cell_type": "code",
      "execution_count": null,
      "metadata": {
        "colab": {
          "base_uri": "https://localhost:8080/"
        },
        "id": "Xcie2_wjEop6",
        "outputId": "2e9474fa-fb97-4ff3-e3d3-690b198f6656"
      },
      "outputs": [
        {
          "data": {
            "text/plain": [
              "(7165, 3)"
            ]
          },
          "execution_count": 18,
          "metadata": {},
          "output_type": "execute_result"
        }
      ],
      "source": [
        "unclear_sentiments.shape"
      ]
    },
    {
      "cell_type": "markdown",
      "metadata": {
        "id": "AitRZ-79akSt"
      },
      "source": [
        "## Train - Validation Split"
      ]
    },
    {
      "cell_type": "code",
      "execution_count": null,
      "metadata": {
        "id": "lMlqdv9hEqnR"
      },
      "outputs": [],
      "source": [
        "x_positive_sentiments = positive_sentiments['Text']\n",
        "y_positive_sentiments = positive_sentiments['Sentiments']\n",
        "x_negative_sentiments = negative_sentiments['Text']\n",
        "y_negative_sentiments = negative_sentiments['Sentiments']\n",
        "x_unclear_sentiments = unclear_sentiments['Text']\n",
        "y_unclear_sentiments = unclear_sentiments['Sentiments']"
      ]
    },
    {
      "cell_type": "code",
      "execution_count": null,
      "metadata": {
        "id": "xTozIoGvE1hh"
      },
      "outputs": [],
      "source": [
        "x_train_positive, x_val_positive, y_train_positive, y_val_positive = train_test_split(x_positive_sentiments, y_positive_sentiments, test_size=0.2, random_state=0)\n",
        "x_train_negative, x_val_negative, y_train_negative, y_val_negative = train_test_split(x_negative_sentiments, y_negative_sentiments, test_size=0.2, random_state=0)\n",
        "x_train_unclear, x_val_unclear, y_train_unclear, y_val_unclear = train_test_split(x_unclear_sentiments, y_unclear_sentiments, test_size=0.2, random_state=0)"
      ]
    },
    {
      "cell_type": "code",
      "execution_count": null,
      "metadata": {
        "id": "npBpmS8jFCST"
      },
      "outputs": [],
      "source": [
        "# x_train = pd.concat([x_train_positive, x_train_negative, x_train_unclear])\n",
        "# y_train = pd.concat([y_train_positive, y_train_negative, y_train_unclear])\n",
        "# x_val = pd.concat([x_val_positive, x_val_negative, x_val_unclear])\n",
        "# y_val = pd.concat([y_val_positive, y_val_negative, y_val_unclear])\n",
        "x_train = pd.concat([x_train_positive, x_train_negative])\n",
        "y_train = pd.concat([y_train_positive, y_train_negative])\n",
        "x_val = pd.concat([x_val_positive, x_val_negative])\n",
        "y_val = pd.concat([y_val_positive, y_val_negative])"
      ]
    },
    {
      "cell_type": "code",
      "execution_count": null,
      "metadata": {
        "colab": {
          "base_uri": "https://localhost:8080/"
        },
        "id": "tuGoKkmVFnr2",
        "outputId": "a73150ef-1dca-4c3c-8fa2-01ef12c9f5b8"
      },
      "outputs": [
        {
          "data": {
            "text/plain": [
              "(29974,)"
            ]
          },
          "execution_count": 22,
          "metadata": {},
          "output_type": "execute_result"
        }
      ],
      "source": [
        "x_train.shape"
      ]
    },
    {
      "cell_type": "code",
      "execution_count": null,
      "metadata": {
        "colab": {
          "base_uri": "https://localhost:8080/"
        },
        "id": "vEWYgsrFFpWS",
        "outputId": "b8da274d-6197-452b-c55d-3f810949ff82"
      },
      "outputs": [
        {
          "data": {
            "text/plain": [
              "(7495,)"
            ]
          },
          "execution_count": 23,
          "metadata": {},
          "output_type": "execute_result"
        }
      ],
      "source": [
        "x_val.shape"
      ]
    },
    {
      "cell_type": "code",
      "execution_count": null,
      "metadata": {
        "colab": {
          "base_uri": "https://localhost:8080/"
        },
        "id": "46ZAXR5xFqhB",
        "outputId": "c763d093-7f64-4a83-9823-8e76a3640ed4"
      },
      "outputs": [
        {
          "data": {
            "text/plain": [
              "(29974,)"
            ]
          },
          "execution_count": 24,
          "metadata": {},
          "output_type": "execute_result"
        }
      ],
      "source": [
        "y_train.shape"
      ]
    },
    {
      "cell_type": "code",
      "execution_count": null,
      "metadata": {
        "colab": {
          "base_uri": "https://localhost:8080/"
        },
        "id": "8vKIPoGCFr0f",
        "outputId": "77ce0bfe-c497-4f29-ad1c-af4eae0fb22d"
      },
      "outputs": [
        {
          "data": {
            "text/plain": [
              "(7495,)"
            ]
          },
          "execution_count": 25,
          "metadata": {},
          "output_type": "execute_result"
        }
      ],
      "source": [
        "y_val.shape"
      ]
    },
    {
      "cell_type": "markdown",
      "metadata": {
        "id": "E4mQoopxThcp"
      },
      "source": [
        "## Processing Test Data"
      ]
    },
    {
      "cell_type": "code",
      "execution_count": null,
      "metadata": {
        "colab": {
          "base_uri": "https://localhost:8080/",
          "height": 423
        },
        "id": "wgSHfwxQTjlP",
        "outputId": "72277dc4-9d81-4112-8ce3-3a98aa95fb9f"
      },
      "outputs": [
        {
          "data": {
            "application/vnd.google.colaboratory.intrinsic+json": {
              "summary": "{\n  \"name\": \"df_test\",\n  \"rows\": 2039,\n  \"fields\": [\n    {\n      \"column\": \"Sentiments\",\n      \"properties\": {\n        \"dtype\": \"number\",\n        \"std\": 0,\n        \"min\": 0,\n        \"max\": 1,\n        \"samples\": [\n          0,\n          1\n        ],\n        \"num_unique_values\": 2,\n        \"semantic_type\": \"\",\n        \"description\": \"\"\n      }\n    },\n    {\n      \"column\": \"Text\",\n      \"properties\": {\n        \"dtype\": \"string\",\n        \"samples\": [\n          \"Only trusting in the Lord.\",\n          \"It's scary that we are putting this in so many people when it was developed so recently and we don't know what the long-term implications are.\"\n        ],\n        \"num_unique_values\": 2039,\n        \"semantic_type\": \"\",\n        \"description\": \"\"\n      }\n    }\n  ]\n}",
              "type": "dataframe",
              "variable_name": "df_test"
            },
            "text/html": [
              "\n",
              "  <div id=\"df-b92dcd5a-e71a-4eb0-b2b6-09948fda01a4\" class=\"colab-df-container\">\n",
              "    <div>\n",
              "<style scoped>\n",
              "    .dataframe tbody tr th:only-of-type {\n",
              "        vertical-align: middle;\n",
              "    }\n",
              "\n",
              "    .dataframe tbody tr th {\n",
              "        vertical-align: top;\n",
              "    }\n",
              "\n",
              "    .dataframe thead th {\n",
              "        text-align: right;\n",
              "    }\n",
              "</style>\n",
              "<table border=\"1\" class=\"dataframe\">\n",
              "  <thead>\n",
              "    <tr style=\"text-align: right;\">\n",
              "      <th></th>\n",
              "      <th>Sentiments</th>\n",
              "      <th>Text</th>\n",
              "    </tr>\n",
              "  </thead>\n",
              "  <tbody>\n",
              "    <tr>\n",
              "      <th>0</th>\n",
              "      <td>1</td>\n",
              "      <td>Don't tell me what to do with my body - the sa...</td>\n",
              "    </tr>\n",
              "    <tr>\n",
              "      <th>1</th>\n",
              "      <td>1</td>\n",
              "      <td>I did my own research means you looked online ...</td>\n",
              "    </tr>\n",
              "    <tr>\n",
              "      <th>2</th>\n",
              "      <td>1</td>\n",
              "      <td>I don't know what's in it. As if they know wha...</td>\n",
              "    </tr>\n",
              "    <tr>\n",
              "      <th>3</th>\n",
              "      <td>1</td>\n",
              "      <td>I trust my immune system just translates to \"I...</td>\n",
              "    </tr>\n",
              "    <tr>\n",
              "      <th>4</th>\n",
              "      <td>1</td>\n",
              "      <td>In the September time frame, unvaccinated peop...</td>\n",
              "    </tr>\n",
              "    <tr>\n",
              "      <th>...</th>\n",
              "      <td>...</td>\n",
              "      <td>...</td>\n",
              "    </tr>\n",
              "    <tr>\n",
              "      <th>2034</th>\n",
              "      <td>0</td>\n",
              "      <td>“Medical professionals” that don’t even eat he...</td>\n",
              "    </tr>\n",
              "    <tr>\n",
              "      <th>2035</th>\n",
              "      <td>1</td>\n",
              "      <td>“No vaccine has ever been proven effective.” T...</td>\n",
              "    </tr>\n",
              "    <tr>\n",
              "      <th>2036</th>\n",
              "      <td>0</td>\n",
              "      <td>“We cannot have normality until everyone globa...</td>\n",
              "    </tr>\n",
              "    <tr>\n",
              "      <th>2037</th>\n",
              "      <td>1</td>\n",
              "      <td>”i’d do anything to keep my child safe” except...</td>\n",
              "    </tr>\n",
              "    <tr>\n",
              "      <th>2038</th>\n",
              "      <td>0</td>\n",
              "      <td>…and the VACCINATION could give you a heart at...</td>\n",
              "    </tr>\n",
              "  </tbody>\n",
              "</table>\n",
              "<p>2039 rows × 2 columns</p>\n",
              "</div>\n",
              "    <div class=\"colab-df-buttons\">\n",
              "\n",
              "  <div class=\"colab-df-container\">\n",
              "    <button class=\"colab-df-convert\" onclick=\"convertToInteractive('df-b92dcd5a-e71a-4eb0-b2b6-09948fda01a4')\"\n",
              "            title=\"Convert this dataframe to an interactive table.\"\n",
              "            style=\"display:none;\">\n",
              "\n",
              "  <svg xmlns=\"http://www.w3.org/2000/svg\" height=\"24px\" viewBox=\"0 -960 960 960\">\n",
              "    <path d=\"M120-120v-720h720v720H120Zm60-500h600v-160H180v160Zm220 220h160v-160H400v160Zm0 220h160v-160H400v160ZM180-400h160v-160H180v160Zm440 0h160v-160H620v160ZM180-180h160v-160H180v160Zm440 0h160v-160H620v160Z\"/>\n",
              "  </svg>\n",
              "    </button>\n",
              "\n",
              "  <style>\n",
              "    .colab-df-container {\n",
              "      display:flex;\n",
              "      gap: 12px;\n",
              "    }\n",
              "\n",
              "    .colab-df-convert {\n",
              "      background-color: #E8F0FE;\n",
              "      border: none;\n",
              "      border-radius: 50%;\n",
              "      cursor: pointer;\n",
              "      display: none;\n",
              "      fill: #1967D2;\n",
              "      height: 32px;\n",
              "      padding: 0 0 0 0;\n",
              "      width: 32px;\n",
              "    }\n",
              "\n",
              "    .colab-df-convert:hover {\n",
              "      background-color: #E2EBFA;\n",
              "      box-shadow: 0px 1px 2px rgba(60, 64, 67, 0.3), 0px 1px 3px 1px rgba(60, 64, 67, 0.15);\n",
              "      fill: #174EA6;\n",
              "    }\n",
              "\n",
              "    .colab-df-buttons div {\n",
              "      margin-bottom: 4px;\n",
              "    }\n",
              "\n",
              "    [theme=dark] .colab-df-convert {\n",
              "      background-color: #3B4455;\n",
              "      fill: #D2E3FC;\n",
              "    }\n",
              "\n",
              "    [theme=dark] .colab-df-convert:hover {\n",
              "      background-color: #434B5C;\n",
              "      box-shadow: 0px 1px 3px 1px rgba(0, 0, 0, 0.15);\n",
              "      filter: drop-shadow(0px 1px 2px rgba(0, 0, 0, 0.3));\n",
              "      fill: #FFFFFF;\n",
              "    }\n",
              "  </style>\n",
              "\n",
              "    <script>\n",
              "      const buttonEl =\n",
              "        document.querySelector('#df-b92dcd5a-e71a-4eb0-b2b6-09948fda01a4 button.colab-df-convert');\n",
              "      buttonEl.style.display =\n",
              "        google.colab.kernel.accessAllowed ? 'block' : 'none';\n",
              "\n",
              "      async function convertToInteractive(key) {\n",
              "        const element = document.querySelector('#df-b92dcd5a-e71a-4eb0-b2b6-09948fda01a4');\n",
              "        const dataTable =\n",
              "          await google.colab.kernel.invokeFunction('convertToInteractive',\n",
              "                                                    [key], {});\n",
              "        if (!dataTable) return;\n",
              "\n",
              "        const docLinkHtml = 'Like what you see? Visit the ' +\n",
              "          '<a target=\"_blank\" href=https://colab.research.google.com/notebooks/data_table.ipynb>data table notebook</a>'\n",
              "          + ' to learn more about interactive tables.';\n",
              "        element.innerHTML = '';\n",
              "        dataTable['output_type'] = 'display_data';\n",
              "        await google.colab.output.renderOutput(dataTable, element);\n",
              "        const docLink = document.createElement('div');\n",
              "        docLink.innerHTML = docLinkHtml;\n",
              "        element.appendChild(docLink);\n",
              "      }\n",
              "    </script>\n",
              "  </div>\n",
              "\n",
              "\n",
              "<div id=\"df-8a93510c-5abe-4c1a-a6c7-15942439657f\">\n",
              "  <button class=\"colab-df-quickchart\" onclick=\"quickchart('df-8a93510c-5abe-4c1a-a6c7-15942439657f')\"\n",
              "            title=\"Suggest charts\"\n",
              "            style=\"display:none;\">\n",
              "\n",
              "<svg xmlns=\"http://www.w3.org/2000/svg\" height=\"24px\"viewBox=\"0 0 24 24\"\n",
              "     width=\"24px\">\n",
              "    <g>\n",
              "        <path d=\"M19 3H5c-1.1 0-2 .9-2 2v14c0 1.1.9 2 2 2h14c1.1 0 2-.9 2-2V5c0-1.1-.9-2-2-2zM9 17H7v-7h2v7zm4 0h-2V7h2v10zm4 0h-2v-4h2v4z\"/>\n",
              "    </g>\n",
              "</svg>\n",
              "  </button>\n",
              "\n",
              "<style>\n",
              "  .colab-df-quickchart {\n",
              "      --bg-color: #E8F0FE;\n",
              "      --fill-color: #1967D2;\n",
              "      --hover-bg-color: #E2EBFA;\n",
              "      --hover-fill-color: #174EA6;\n",
              "      --disabled-fill-color: #AAA;\n",
              "      --disabled-bg-color: #DDD;\n",
              "  }\n",
              "\n",
              "  [theme=dark] .colab-df-quickchart {\n",
              "      --bg-color: #3B4455;\n",
              "      --fill-color: #D2E3FC;\n",
              "      --hover-bg-color: #434B5C;\n",
              "      --hover-fill-color: #FFFFFF;\n",
              "      --disabled-bg-color: #3B4455;\n",
              "      --disabled-fill-color: #666;\n",
              "  }\n",
              "\n",
              "  .colab-df-quickchart {\n",
              "    background-color: var(--bg-color);\n",
              "    border: none;\n",
              "    border-radius: 50%;\n",
              "    cursor: pointer;\n",
              "    display: none;\n",
              "    fill: var(--fill-color);\n",
              "    height: 32px;\n",
              "    padding: 0;\n",
              "    width: 32px;\n",
              "  }\n",
              "\n",
              "  .colab-df-quickchart:hover {\n",
              "    background-color: var(--hover-bg-color);\n",
              "    box-shadow: 0 1px 2px rgba(60, 64, 67, 0.3), 0 1px 3px 1px rgba(60, 64, 67, 0.15);\n",
              "    fill: var(--button-hover-fill-color);\n",
              "  }\n",
              "\n",
              "  .colab-df-quickchart-complete:disabled,\n",
              "  .colab-df-quickchart-complete:disabled:hover {\n",
              "    background-color: var(--disabled-bg-color);\n",
              "    fill: var(--disabled-fill-color);\n",
              "    box-shadow: none;\n",
              "  }\n",
              "\n",
              "  .colab-df-spinner {\n",
              "    border: 2px solid var(--fill-color);\n",
              "    border-color: transparent;\n",
              "    border-bottom-color: var(--fill-color);\n",
              "    animation:\n",
              "      spin 1s steps(1) infinite;\n",
              "  }\n",
              "\n",
              "  @keyframes spin {\n",
              "    0% {\n",
              "      border-color: transparent;\n",
              "      border-bottom-color: var(--fill-color);\n",
              "      border-left-color: var(--fill-color);\n",
              "    }\n",
              "    20% {\n",
              "      border-color: transparent;\n",
              "      border-left-color: var(--fill-color);\n",
              "      border-top-color: var(--fill-color);\n",
              "    }\n",
              "    30% {\n",
              "      border-color: transparent;\n",
              "      border-left-color: var(--fill-color);\n",
              "      border-top-color: var(--fill-color);\n",
              "      border-right-color: var(--fill-color);\n",
              "    }\n",
              "    40% {\n",
              "      border-color: transparent;\n",
              "      border-right-color: var(--fill-color);\n",
              "      border-top-color: var(--fill-color);\n",
              "    }\n",
              "    60% {\n",
              "      border-color: transparent;\n",
              "      border-right-color: var(--fill-color);\n",
              "    }\n",
              "    80% {\n",
              "      border-color: transparent;\n",
              "      border-right-color: var(--fill-color);\n",
              "      border-bottom-color: var(--fill-color);\n",
              "    }\n",
              "    90% {\n",
              "      border-color: transparent;\n",
              "      border-bottom-color: var(--fill-color);\n",
              "    }\n",
              "  }\n",
              "</style>\n",
              "\n",
              "  <script>\n",
              "    async function quickchart(key) {\n",
              "      const quickchartButtonEl =\n",
              "        document.querySelector('#' + key + ' button');\n",
              "      quickchartButtonEl.disabled = true;  // To prevent multiple clicks.\n",
              "      quickchartButtonEl.classList.add('colab-df-spinner');\n",
              "      try {\n",
              "        const charts = await google.colab.kernel.invokeFunction(\n",
              "            'suggestCharts', [key], {});\n",
              "      } catch (error) {\n",
              "        console.error('Error during call to suggestCharts:', error);\n",
              "      }\n",
              "      quickchartButtonEl.classList.remove('colab-df-spinner');\n",
              "      quickchartButtonEl.classList.add('colab-df-quickchart-complete');\n",
              "    }\n",
              "    (() => {\n",
              "      let quickchartButtonEl =\n",
              "        document.querySelector('#df-8a93510c-5abe-4c1a-a6c7-15942439657f button');\n",
              "      quickchartButtonEl.style.display =\n",
              "        google.colab.kernel.accessAllowed ? 'block' : 'none';\n",
              "    })();\n",
              "  </script>\n",
              "</div>\n",
              "    </div>\n",
              "  </div>\n"
            ],
            "text/plain": [
              "      Sentiments                                               Text\n",
              "0              1  Don't tell me what to do with my body - the sa...\n",
              "1              1  I did my own research means you looked online ...\n",
              "2              1  I don't know what's in it. As if they know wha...\n",
              "3              1  I trust my immune system just translates to \"I...\n",
              "4              1  In the September time frame, unvaccinated peop...\n",
              "...          ...                                                ...\n",
              "2034           0  “Medical professionals” that don’t even eat he...\n",
              "2035           1  “No vaccine has ever been proven effective.” T...\n",
              "2036           0  “We cannot have normality until everyone globa...\n",
              "2037           1  ”i’d do anything to keep my child safe” except...\n",
              "2038           0  …and the VACCINATION could give you a heart at...\n",
              "\n",
              "[2039 rows x 2 columns]"
            ]
          },
          "execution_count": 26,
          "metadata": {},
          "output_type": "execute_result"
        }
      ],
      "source": [
        "# Loading in the dataset\n",
        "\n",
        "df_test = pd.read_csv(\"/content/a3_test.tsv\", sep='\\t', header=None)\n",
        "df_test.columns = ['Sentiments', 'Text']\n",
        "df_test"
      ]
    },
    {
      "cell_type": "code",
      "execution_count": null,
      "metadata": {
        "id": "ljU0SmIeT3kN"
      },
      "outputs": [],
      "source": [
        "x_test = df_test['Text']\n",
        "y_test = df_test['Sentiments']"
      ]
    },
    {
      "cell_type": "code",
      "execution_count": null,
      "metadata": {
        "colab": {
          "base_uri": "https://localhost:8080/"
        },
        "id": "uLUphLtNUCGh",
        "outputId": "073d4830-edba-4ef7-9fd8-ce9e041190ee"
      },
      "outputs": [
        {
          "data": {
            "text/plain": [
              "0       Don't tell me what to do with my body - the sa...\n",
              "1       I did my own research means you looked online ...\n",
              "2       I don't know what's in it. As if they know wha...\n",
              "3       I trust my immune system just translates to \"I...\n",
              "4       In the September time frame, unvaccinated peop...\n",
              "                              ...                        \n",
              "2034    “Medical professionals” that don’t even eat he...\n",
              "2035    “No vaccine has ever been proven effective.” T...\n",
              "2036    “We cannot have normality until everyone globa...\n",
              "2037    ”i’d do anything to keep my child safe” except...\n",
              "2038    …and the VACCINATION could give you a heart at...\n",
              "Name: Text, Length: 2039, dtype: object"
            ]
          },
          "execution_count": 28,
          "metadata": {},
          "output_type": "execute_result"
        }
      ],
      "source": [
        "x_test"
      ]
    },
    {
      "cell_type": "code",
      "execution_count": null,
      "metadata": {
        "colab": {
          "base_uri": "https://localhost:8080/"
        },
        "id": "ciNl1ONOUFX5",
        "outputId": "b081bf54-32ee-470d-ce97-5a121eb5ef82"
      },
      "outputs": [
        {
          "data": {
            "text/plain": [
              "0       1\n",
              "1       1\n",
              "2       1\n",
              "3       1\n",
              "4       1\n",
              "       ..\n",
              "2034    0\n",
              "2035    1\n",
              "2036    0\n",
              "2037    1\n",
              "2038    0\n",
              "Name: Sentiments, Length: 2039, dtype: int64"
            ]
          },
          "execution_count": 29,
          "metadata": {},
          "output_type": "execute_result"
        }
      ],
      "source": [
        "y_test"
      ]
    },
    {
      "cell_type": "code",
      "execution_count": null,
      "metadata": {
        "colab": {
          "base_uri": "https://localhost:8080/"
        },
        "id": "y5g6QLEsUHdL",
        "outputId": "b94e3683-c1a1-400e-be31-37f4addefab7"
      },
      "outputs": [
        {
          "data": {
            "text/plain": [
              "0    1020\n",
              "1    1019\n",
              "Name: Sentiments, dtype: int64"
            ]
          },
          "execution_count": 30,
          "metadata": {},
          "output_type": "execute_result"
        }
      ],
      "source": [
        "y_test.value_counts()"
      ]
    },
    {
      "cell_type": "code",
      "execution_count": null,
      "metadata": {
        "id": "saDYCZ2eV2Bc"
      },
      "outputs": [],
      "source": [
        "y_test = y_test.replace(1,'Positive')\n",
        "y_test = y_test.replace(0,'Negative')"
      ]
    },
    {
      "cell_type": "markdown",
      "metadata": {
        "id": "yzjyAq_ig0BL"
      },
      "source": [
        "# Dummy Classifier as baseline benchmark"
      ]
    },
    {
      "cell_type": "code",
      "execution_count": null,
      "metadata": {
        "colab": {
          "base_uri": "https://localhost:8080/"
        },
        "id": "mv_Q2Z-zgSM6",
        "outputId": "d60f27fa-2d8b-450b-a1a9-0cfcb02389e0"
      },
      "outputs": [
        {
          "name": "stdout",
          "output_type": "stream",
          "text": [
            "TFIDIF with Dummy Classifier Validation Accuracy: 0.513675783855904\n",
            "Classification Report:\n",
            "              precision    recall  f1-score   support\n",
            "\n",
            "    Negative       0.00      0.00      0.00      3645\n",
            "    Positive       0.51      1.00      0.68      3850\n",
            "\n",
            "    accuracy                           0.51      7495\n",
            "   macro avg       0.26      0.50      0.34      7495\n",
            "weighted avg       0.26      0.51      0.35      7495\n",
            "\n"
          ]
        },
        {
          "name": "stderr",
          "output_type": "stream",
          "text": [
            "/usr/local/lib/python3.10/dist-packages/sklearn/metrics/_classification.py:1344: UndefinedMetricWarning: Precision and F-score are ill-defined and being set to 0.0 in labels with no predicted samples. Use `zero_division` parameter to control this behavior.\n",
            "  _warn_prf(average, modifier, msg_start, len(result))\n",
            "/usr/local/lib/python3.10/dist-packages/sklearn/metrics/_classification.py:1344: UndefinedMetricWarning: Precision and F-score are ill-defined and being set to 0.0 in labels with no predicted samples. Use `zero_division` parameter to control this behavior.\n",
            "  _warn_prf(average, modifier, msg_start, len(result))\n",
            "/usr/local/lib/python3.10/dist-packages/sklearn/metrics/_classification.py:1344: UndefinedMetricWarning: Precision and F-score are ill-defined and being set to 0.0 in labels with no predicted samples. Use `zero_division` parameter to control this behavior.\n",
            "  _warn_prf(average, modifier, msg_start, len(result))\n"
          ]
        }
      ],
      "source": [
        "dummy_clf = DummyClassifier(strategy=\"most_frequent\")\n",
        "dummy_vectorizer = TfidfVectorizer(max_features=5000, ngram_range=(1, 2), min_df=5)\n",
        "x_train_vectorized = dummy_vectorizer.fit_transform(x_train)\n",
        "dummy_clf.fit(x_train_vectorized, y_train)\n",
        "\n",
        "x_val_vectorized = dummy_vectorizer.transform(x_val)\n",
        "\n",
        "y_pred = dummy_clf.predict(x_val_vectorized)\n",
        "\n",
        "accuracy = accuracy_score(y_val, y_pred)\n",
        "print(\"TFIDIF with Dummy Classifier Validation Accuracy:\", accuracy)\n",
        "print('Classification Report:')\n",
        "print(classification_report(y_val, y_pred))"
      ]
    },
    {
      "cell_type": "markdown",
      "metadata": {
        "id": "PhGAq0e1hJVj"
      },
      "source": [
        "## Test Set Accuracy"
      ]
    },
    {
      "cell_type": "code",
      "execution_count": null,
      "metadata": {
        "colab": {
          "base_uri": "https://localhost:8080/"
        },
        "id": "BxZxABEMg8rK",
        "outputId": "f9c52a78-c1ea-4de1-b8c2-0e8e4011055a"
      },
      "outputs": [
        {
          "name": "stdout",
          "output_type": "stream",
          "text": [
            "TFIDFVectorizer with Dummy Classifier Test Accuracy: 0.49975478175576266\n",
            "Classification Report:\n",
            "              precision    recall  f1-score   support\n",
            "\n",
            "    Negative       0.00      0.00      0.00      1020\n",
            "    Positive       0.50      1.00      0.67      1019\n",
            "\n",
            "    accuracy                           0.50      2039\n",
            "   macro avg       0.25      0.50      0.33      2039\n",
            "weighted avg       0.25      0.50      0.33      2039\n",
            "\n"
          ]
        },
        {
          "name": "stderr",
          "output_type": "stream",
          "text": [
            "/usr/local/lib/python3.10/dist-packages/sklearn/metrics/_classification.py:1344: UndefinedMetricWarning: Precision and F-score are ill-defined and being set to 0.0 in labels with no predicted samples. Use `zero_division` parameter to control this behavior.\n",
            "  _warn_prf(average, modifier, msg_start, len(result))\n",
            "/usr/local/lib/python3.10/dist-packages/sklearn/metrics/_classification.py:1344: UndefinedMetricWarning: Precision and F-score are ill-defined and being set to 0.0 in labels with no predicted samples. Use `zero_division` parameter to control this behavior.\n",
            "  _warn_prf(average, modifier, msg_start, len(result))\n",
            "/usr/local/lib/python3.10/dist-packages/sklearn/metrics/_classification.py:1344: UndefinedMetricWarning: Precision and F-score are ill-defined and being set to 0.0 in labels with no predicted samples. Use `zero_division` parameter to control this behavior.\n",
            "  _warn_prf(average, modifier, msg_start, len(result))\n"
          ]
        }
      ],
      "source": [
        "x_test_vectorized = dummy_vectorizer.transform(x_test)\n",
        "\n",
        "y_pred = dummy_clf.predict(x_test_vectorized)\n",
        "\n",
        "accuracy = accuracy_score(y_test, y_pred)\n",
        "print(\"TFIDFVectorizer with Dummy Classifier Test Accuracy:\", accuracy)\n",
        "print('Classification Report:')\n",
        "print(classification_report(y_test, y_pred))"
      ]
    },
    {
      "cell_type": "markdown",
      "metadata": {
        "id": "KBkYWZUFBn5i"
      },
      "source": [
        "## Utilizing CountVectorizer with Logistic Regression"
      ]
    },
    {
      "cell_type": "code",
      "execution_count": null,
      "metadata": {
        "colab": {
          "base_uri": "https://localhost:8080/"
        },
        "id": "PX-qeURXBnqw",
        "outputId": "c185cdaf-0a56-4e5f-9e0b-0e429d858025"
      },
      "outputs": [
        {
          "name": "stdout",
          "output_type": "stream",
          "text": [
            "CountVectorizer with Logistic Regression Validation Accuracy: 0.8277518345563709\n",
            "Classification Report:\n",
            "              precision    recall  f1-score   support\n",
            "\n",
            "    Negative       0.82      0.83      0.82      3645\n",
            "    Positive       0.84      0.82      0.83      3850\n",
            "\n",
            "    accuracy                           0.83      7495\n",
            "   macro avg       0.83      0.83      0.83      7495\n",
            "weighted avg       0.83      0.83      0.83      7495\n",
            "\n"
          ]
        }
      ],
      "source": [
        "vectorizer = CountVectorizer()\n",
        "\n",
        "x_train_vectorized = vectorizer.fit_transform(x_train)\n",
        "\n",
        "clf = LogisticRegression(max_iter=1000)\n",
        "clf.fit(x_train_vectorized, y_train)\n",
        "\n",
        "x_val_vectorized = vectorizer.transform(x_val)\n",
        "\n",
        "y_pred = clf.predict(x_val_vectorized)\n",
        "\n",
        "accuracy = accuracy_score(y_val, y_pred)\n",
        "print(\"CountVectorizer with Logistic Regression Validation Accuracy:\", accuracy)\n",
        "print('Classification Report:')\n",
        "print(classification_report(y_val, y_pred))"
      ]
    },
    {
      "cell_type": "markdown",
      "metadata": {
        "id": "3yR2Bv0_UREM"
      },
      "source": [
        "## Test Set Accuracy"
      ]
    },
    {
      "cell_type": "code",
      "execution_count": null,
      "metadata": {
        "colab": {
          "base_uri": "https://localhost:8080/"
        },
        "id": "mMpUgJflURea",
        "outputId": "8b407910-afe7-44a4-dc87-a0c1367bfdc5"
      },
      "outputs": [
        {
          "name": "stdout",
          "output_type": "stream",
          "text": [
            "CountVectorizer with Logistic Regression Test Accuracy: 0.8425698871996077\n",
            "Classification Report:\n",
            "              precision    recall  f1-score   support\n",
            "\n",
            "    Negative       0.84      0.84      0.84      1020\n",
            "    Positive       0.84      0.84      0.84      1019\n",
            "\n",
            "    accuracy                           0.84      2039\n",
            "   macro avg       0.84      0.84      0.84      2039\n",
            "weighted avg       0.84      0.84      0.84      2039\n",
            "\n"
          ]
        }
      ],
      "source": [
        "x_test_vectorized = vectorizer.transform(x_test)\n",
        "\n",
        "y_pred = clf.predict(x_test_vectorized)\n",
        "\n",
        "accuracy = accuracy_score(y_test, y_pred)\n",
        "print(\"CountVectorizer with Logistic Regression Test Accuracy:\", accuracy)\n",
        "print('Classification Report:')\n",
        "print(classification_report(y_test, y_pred))"
      ]
    },
    {
      "cell_type": "markdown",
      "metadata": {
        "id": "rv3N4VNiEwMh"
      },
      "source": [
        "## Utilizing TfidfVectorizer with Logistic Regression"
      ]
    },
    {
      "cell_type": "code",
      "execution_count": null,
      "metadata": {
        "colab": {
          "base_uri": "https://localhost:8080/"
        },
        "id": "3TsMSVHRCsC3",
        "outputId": "0f3206cb-b265-443d-cb7f-3d9f00cba348"
      },
      "outputs": [
        {
          "name": "stdout",
          "output_type": "stream",
          "text": [
            "TfidfVectorizer with Logistic Regression Validation Accuracy: 0.8452301534356238\n",
            "Classification Report:\n",
            "              precision    recall  f1-score   support\n",
            "\n",
            "    Negative       0.85      0.83      0.84      3645\n",
            "    Positive       0.84      0.86      0.85      3850\n",
            "\n",
            "    accuracy                           0.85      7495\n",
            "   macro avg       0.85      0.84      0.85      7495\n",
            "weighted avg       0.85      0.85      0.85      7495\n",
            "\n"
          ]
        }
      ],
      "source": [
        "vectorizer = TfidfVectorizer(max_features=5000, ngram_range=(1, 2), min_df=5)\n",
        "\n",
        "x_train_vectorized = vectorizer.fit_transform(x_train)\n",
        "\n",
        "clf = LogisticRegression(max_iter=1000, C=1.0)\n",
        "clf.fit(x_train_vectorized, y_train)\n",
        "\n",
        "x_val_vectorized = vectorizer.transform(x_val)\n",
        "\n",
        "y_pred = clf.predict(x_val_vectorized)\n",
        "\n",
        "accuracy = accuracy_score(y_val, y_pred)\n",
        "print(\"TfidfVectorizer with Logistic Regression Validation Accuracy:\", accuracy)\n",
        "print('Classification Report:')\n",
        "print(classification_report(y_val, y_pred))"
      ]
    },
    {
      "cell_type": "markdown",
      "metadata": {
        "id": "PrPviAruZOCA"
      },
      "source": [
        "## Test Set Accuracy"
      ]
    },
    {
      "cell_type": "code",
      "execution_count": null,
      "metadata": {
        "colab": {
          "base_uri": "https://localhost:8080/"
        },
        "id": "wqlBkZ5JWRYz",
        "outputId": "3789688f-0d16-4780-b4d1-b5fb641a6d72"
      },
      "outputs": [
        {
          "name": "stdout",
          "output_type": "stream",
          "text": [
            "TfidfVectorizer with Logistic Regression Test Accuracy: 0.8543403629230014\n",
            "Classification Report:\n",
            "              precision    recall  f1-score   support\n",
            "\n",
            "    Negative       0.85      0.86      0.86      1020\n",
            "    Positive       0.86      0.85      0.85      1019\n",
            "\n",
            "    accuracy                           0.85      2039\n",
            "   macro avg       0.85      0.85      0.85      2039\n",
            "weighted avg       0.85      0.85      0.85      2039\n",
            "\n"
          ]
        }
      ],
      "source": [
        "x_test_vectorized = vectorizer.transform(x_test)\n",
        "\n",
        "y_pred = clf.predict(x_test_vectorized)\n",
        "\n",
        "accuracy = accuracy_score(y_test, y_pred)\n",
        "print(\"TfidfVectorizer with Logistic Regression Test Accuracy:\", accuracy)\n",
        "print('Classification Report:')\n",
        "print(classification_report(y_test, y_pred))"
      ]
    },
    {
      "cell_type": "markdown",
      "metadata": {
        "id": "LFVLxPJlFekB"
      },
      "source": [
        "## Utilizing TfidfVectorizer with Multinomial Naive Bayes Classifier"
      ]
    },
    {
      "cell_type": "code",
      "execution_count": null,
      "metadata": {
        "colab": {
          "base_uri": "https://localhost:8080/"
        },
        "id": "7EVmZQPoDFah",
        "outputId": "a4f9a0c2-7c5e-410a-c0a0-3eb1f637c6e8"
      },
      "outputs": [
        {
          "name": "stdout",
          "output_type": "stream",
          "text": [
            "TfidfVectorizer with Multinomial Naive Bayes Validation Accuracy: 0.8268178785857239\n",
            "Classification Report:\n",
            "              precision    recall  f1-score   support\n",
            "\n",
            "    Negative       0.82      0.83      0.82      3645\n",
            "    Positive       0.84      0.83      0.83      3850\n",
            "\n",
            "    accuracy                           0.83      7495\n",
            "   macro avg       0.83      0.83      0.83      7495\n",
            "weighted avg       0.83      0.83      0.83      7495\n",
            "\n"
          ]
        }
      ],
      "source": [
        "vectorizer = TfidfVectorizer(max_features=5000, ngram_range=(1, 2), min_df=5)\n",
        "\n",
        "x_train_vectorized = vectorizer.fit_transform(x_train)\n",
        "\n",
        "clf = MultinomialNB()\n",
        "clf.fit(x_train_vectorized, y_train)\n",
        "\n",
        "x_val_vectorized = vectorizer.transform(x_val)\n",
        "\n",
        "y_pred = clf.predict(x_val_vectorized)\n",
        "\n",
        "accuracy = accuracy_score(y_val, y_pred)\n",
        "print(\"TfidfVectorizer with Multinomial Naive Bayes Validation Accuracy:\", accuracy)\n",
        "print('Classification Report:')\n",
        "print(classification_report(y_val, y_pred))"
      ]
    },
    {
      "cell_type": "markdown",
      "metadata": {
        "id": "8uyM-MTUZRfJ"
      },
      "source": [
        "## Test Set Accuracy"
      ]
    },
    {
      "cell_type": "code",
      "execution_count": null,
      "metadata": {
        "colab": {
          "base_uri": "https://localhost:8080/"
        },
        "id": "x7n9Uui8WY0e",
        "outputId": "65090175-fdb9-4a2e-9807-84dc2b5916c9"
      },
      "outputs": [
        {
          "name": "stdout",
          "output_type": "stream",
          "text": [
            "TfidfVectorizer with Multinomial Naive Bayes Test Accuracy: 0.8396272682687592\n",
            "Classification Report:\n",
            "              precision    recall  f1-score   support\n",
            "\n",
            "    Negative       0.83      0.86      0.84      1020\n",
            "    Positive       0.85      0.82      0.84      1019\n",
            "\n",
            "    accuracy                           0.84      2039\n",
            "   macro avg       0.84      0.84      0.84      2039\n",
            "weighted avg       0.84      0.84      0.84      2039\n",
            "\n"
          ]
        }
      ],
      "source": [
        "x_test_vectorized = vectorizer.transform(x_test)\n",
        "\n",
        "y_pred = clf.predict(x_test_vectorized)\n",
        "\n",
        "accuracy = accuracy_score(y_test, y_pred)\n",
        "print(\"TfidfVectorizer with Multinomial Naive Bayes Test Accuracy:\", accuracy)\n",
        "print('Classification Report:')\n",
        "print(classification_report(y_test, y_pred))"
      ]
    },
    {
      "cell_type": "markdown",
      "metadata": {
        "id": "YWBEyEJKREUp"
      },
      "source": [
        "## Utilizing TfidfVectorizer with Perceptron for Clasification"
      ]
    },
    {
      "cell_type": "code",
      "execution_count": null,
      "metadata": {
        "colab": {
          "base_uri": "https://localhost:8080/"
        },
        "id": "xqEg9k9OFwxq",
        "outputId": "a6ce5824-2748-4f05-a300-3cb83ac02b88"
      },
      "outputs": [
        {
          "name": "stdout",
          "output_type": "stream",
          "text": [
            "TfidfVectorizer with Perceptron Validation Accuracy: 0.7990660440293529\n",
            "Classification Report:\n",
            "              precision    recall  f1-score   support\n",
            "\n",
            "    Negative       0.81      0.76      0.79      3645\n",
            "    Positive       0.79      0.83      0.81      3850\n",
            "\n",
            "    accuracy                           0.80      7495\n",
            "   macro avg       0.80      0.80      0.80      7495\n",
            "weighted avg       0.80      0.80      0.80      7495\n",
            "\n"
          ]
        }
      ],
      "source": [
        "tf_vectorizer = TfidfVectorizer(max_features=5000, ngram_range=(1, 2), min_df=5)\n",
        "x_train_vectorized = tf_vectorizer.fit_transform(x_train)\n",
        "\n",
        "clf = Perceptron(random_state=0)\n",
        "clf.fit(x_train_vectorized, y_train)\n",
        "\n",
        "x_tf_vec_val = tf_vectorizer.transform(x_val)\n",
        "y_pred = clf.predict(x_tf_vec_val)\n",
        "\n",
        "accuracy = accuracy_score(y_pred, y_val)\n",
        "\n",
        "print(\"TfidfVectorizer with Perceptron Validation Accuracy:\", accuracy)\n",
        "print('Classification Report:')\n",
        "print(classification_report(y_val, y_pred))"
      ]
    },
    {
      "cell_type": "markdown",
      "metadata": {
        "id": "SJjtMobcbzhg"
      },
      "source": [
        "## Test Set Accuracy"
      ]
    },
    {
      "cell_type": "code",
      "execution_count": null,
      "metadata": {
        "colab": {
          "base_uri": "https://localhost:8080/"
        },
        "id": "0kLU89SyRZ9M",
        "outputId": "1e535c49-03c1-4b01-b3c1-43c6858d81b1"
      },
      "outputs": [
        {
          "name": "stdout",
          "output_type": "stream",
          "text": [
            "TfidfVectorizer with Perceptron Test Accuracy: 0.8052967140755272\n",
            "Classification Report:\n",
            "              precision    recall  f1-score   support\n",
            "\n",
            "    Negative       0.82      0.78      0.80      1020\n",
            "    Positive       0.79      0.83      0.81      1019\n",
            "\n",
            "    accuracy                           0.81      2039\n",
            "   macro avg       0.81      0.81      0.81      2039\n",
            "weighted avg       0.81      0.81      0.81      2039\n",
            "\n"
          ]
        }
      ],
      "source": [
        "x_test_vectorized = vectorizer.transform(x_test)\n",
        "\n",
        "y_pred = clf.predict(x_test_vectorized)\n",
        "\n",
        "accuracy = accuracy_score(y_test, y_pred)\n",
        "print(\"TfidfVectorizer with Perceptron Test Accuracy:\", accuracy)\n",
        "print('Classification Report:')\n",
        "print(classification_report(y_test, y_pred))"
      ]
    },
    {
      "cell_type": "markdown",
      "metadata": {
        "id": "vf2N36h6eALA"
      },
      "source": [
        "## Utilizing TfidfVectorizer with Multi-Layer Perceptron for Clasification"
      ]
    },
    {
      "cell_type": "code",
      "execution_count": null,
      "metadata": {
        "colab": {
          "base_uri": "https://localhost:8080/"
        },
        "id": "LdEzko60RoU4",
        "outputId": "28fb979f-790a-462f-c64a-e83de07d5025"
      },
      "outputs": [
        {
          "name": "stdout",
          "output_type": "stream",
          "text": [
            "Iteration 1, loss = 0.64464450\n",
            "Validation score: 0.816544\n",
            "Iteration 2, loss = 0.42965981\n",
            "Validation score: 0.836224\n",
            "Iteration 3, loss = 0.32839064\n",
            "Validation score: 0.840894\n",
            "Iteration 4, loss = 0.29389900\n",
            "Validation score: 0.842228\n",
            "Iteration 5, loss = 0.27502115\n",
            "Validation score: 0.833556\n",
            "Iteration 6, loss = 0.26305986\n",
            "Validation score: 0.829553\n",
            "Iteration 7, loss = 0.25444635\n",
            "Validation score: 0.827552\n",
            "Iteration 8, loss = 0.24811131\n",
            "Validation score: 0.822882\n",
            "Iteration 9, loss = 0.24297165\n",
            "Validation score: 0.822882\n",
            "Iteration 10, loss = 0.23891544\n",
            "Validation score: 0.819213\n",
            "Iteration 11, loss = 0.23570838\n",
            "Validation score: 0.817545\n",
            "Iteration 12, loss = 0.23215546\n",
            "Validation score: 0.818212\n",
            "Iteration 13, loss = 0.22985209\n",
            "Validation score: 0.814877\n",
            "Iteration 14, loss = 0.22724574\n",
            "Validation score: 0.815210\n",
            "Iteration 15, loss = 0.22504113\n",
            "Validation score: 0.815877\n",
            "Iteration 16, loss = 0.22313701\n",
            "Validation score: 0.814543\n",
            "Iteration 17, loss = 0.22169935\n",
            "Validation score: 0.812875\n",
            "Iteration 18, loss = 0.21987313\n",
            "Validation score: 0.812542\n",
            "Iteration 19, loss = 0.21796776\n",
            "Validation score: 0.810874\n",
            "Iteration 20, loss = 0.21641888\n",
            "Validation score: 0.806538\n",
            "Iteration 21, loss = 0.21449788\n",
            "Validation score: 0.809540\n",
            "Iteration 22, loss = 0.21308429\n",
            "Validation score: 0.807538\n",
            "Iteration 23, loss = 0.21081525\n",
            "Validation score: 0.806871\n",
            "Iteration 24, loss = 0.20982128\n",
            "Validation score: 0.806204\n",
            "Iteration 25, loss = 0.20782064\n",
            "Validation score: 0.806538\n",
            "Validation score did not improve more than tol=0.000100 for 20 consecutive epochs. Stopping.\n",
            "TfidfVectorizer with Mulit-Layer Perceptron Validation Accuracy:: 0.8453635757171447\n",
            "Classification Report:\n",
            "              precision    recall  f1-score   support\n",
            "\n",
            "    Negative       0.84      0.84      0.84      3645\n",
            "    Positive       0.85      0.85      0.85      3850\n",
            "\n",
            "    accuracy                           0.85      7495\n",
            "   macro avg       0.85      0.85      0.85      7495\n",
            "weighted avg       0.85      0.85      0.85      7495\n",
            "\n"
          ]
        }
      ],
      "source": [
        "tf_vectorizer_nn = TfidfVectorizer(max_features=5000, ngram_range=(1, 2), min_df=5)\n",
        "X_tf_vec_nn = tf_vectorizer_nn.fit_transform(x_train)\n",
        "\n",
        "clf_nn = MLPClassifier(hidden_layer_sizes=(5,35), max_iter=100, n_iter_no_change=20, verbose=True, activation=\"relu\", solver='adam', early_stopping=True, random_state=2)\n",
        "clf_nn.fit(X_tf_vec_nn, y_train)\n",
        "\n",
        "X_tf_vec_val = tf_vectorizer.transform(x_val)\n",
        "y_pred = clf_nn.predict(X_tf_vec_val)\n",
        "\n",
        "accuracy = accuracy_score(y_val, y_pred)\n",
        "\n",
        "print(\"TfidfVectorizer with Mulit-Layer Perceptron Validation Accuracy::\", accuracy)\n",
        "print('Classification Report:')\n",
        "print(classification_report(y_val, y_pred))"
      ]
    },
    {
      "cell_type": "markdown",
      "metadata": {
        "id": "LFjR32hJZUmn"
      },
      "source": [
        "## Test Set Accuracy"
      ]
    },
    {
      "cell_type": "code",
      "execution_count": null,
      "metadata": {
        "colab": {
          "base_uri": "https://localhost:8080/"
        },
        "id": "R79-h89WW-lG",
        "outputId": "f1f21c39-6405-4777-b8e0-7a8ca72d78c0"
      },
      "outputs": [
        {
          "name": "stdout",
          "output_type": "stream",
          "text": [
            "TfidfVectorizer with Mulit-Layer Perceptron Test Accuracy: 0.8567925453653752\n",
            "Classification Report:\n",
            "              precision    recall  f1-score   support\n",
            "\n",
            "    Negative       0.86      0.86      0.86      1020\n",
            "    Positive       0.86      0.86      0.86      1019\n",
            "\n",
            "    accuracy                           0.86      2039\n",
            "   macro avg       0.86      0.86      0.86      2039\n",
            "weighted avg       0.86      0.86      0.86      2039\n",
            "\n"
          ]
        }
      ],
      "source": [
        "X_test_vectorized = tf_vectorizer.transform(x_test)\n",
        "y_pred = clf_nn.predict(X_test_vectorized)\n",
        "\n",
        "accuracy = accuracy_score(y_test, y_pred)\n",
        "\n",
        "print(\"TfidfVectorizer with Mulit-Layer Perceptron Test Accuracy:\", accuracy)\n",
        "print('Classification Report:')\n",
        "print(classification_report(y_test, y_pred))"
      ]
    }
  ],
  "metadata": {
    "colab": {
      "provenance": []
    },
    "kernelspec": {
      "display_name": "Python 3",
      "name": "python3"
    },
    "language_info": {
      "name": "python"
    }
  },
  "nbformat": 4,
  "nbformat_minor": 0
}
